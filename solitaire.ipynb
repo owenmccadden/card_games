{
 "cells": [
  {
   "cell_type": "code",
   "execution_count": 5,
   "id": "f5846592",
   "metadata": {},
   "outputs": [],
   "source": [
    "import random"
   ]
  },
  {
   "cell_type": "code",
   "execution_count": 1,
   "id": "ad0ca2b0",
   "metadata": {},
   "outputs": [],
   "source": [
    "suits = {'Hearts', 'Clubs', 'Spades', 'Diamonds'}\n",
    "\n",
    "card_name_map = {\n",
    "            'Two': 2,\n",
    "            'Three': 3,\n",
    "            'Four': 4,\n",
    "            'Five': 5,\n",
    "            'Six': 6,\n",
    "            'Seven': 7,\n",
    "            'Eight': 8,\n",
    "            'Nine': 9,\n",
    "            'Ten': 10,\n",
    "            'Jack': 11, \n",
    "            'Queen': 12, \n",
    "            'King': 13, \n",
    "            'Ace': 14\n",
    "            }\n",
    "\n",
    "class Card:\n",
    "    def __init__(self, name, suit):\n",
    "        self.suit = suit\n",
    "        self.name = name\n",
    "        if self.name == 'Six':\n",
    "            self.name_plural = 'Sixes'\n",
    "        else:\n",
    "            self.name_plural = self.name + 's'\n",
    "        self.value = card_name_map[self.name]\n",
    "        if self.value < 10:\n",
    "            self.abbreviation = str(self.value)\n",
    "        elif self.value == 10:\n",
    "            self.abbreviation = 'T'\n",
    "        else:\n",
    "            self.abbreviation = self.name[0]\n",
    "    \n",
    "    def __str__(self):\n",
    "        return '{} of {}'.format(self.name, self.suit)\n",
    "    \n",
    "    def __eq__(self, other):\n",
    "        return self.value == other.value"
   ]
  },
  {
   "cell_type": "code",
   "execution_count": 2,
   "id": "bd4aca81",
   "metadata": {},
   "outputs": [],
   "source": [
    "class Deck:\n",
    "    def __init__(self):\n",
    "        self.deck = []\n",
    "        self.card_location_map = {}\n",
    "        for suit in suits:\n",
    "            for card_name in card_name_map:\n",
    "                self.deck.append(Card(card_name, suit))\n",
    "        self.shuffle()\n",
    "                \n",
    "    def __str__(self):\n",
    "        return ''.join(['{} \\n'.format(card) for card in self.deck])\n",
    "    \n",
    "    def assign_locations(self):\n",
    "        self.card_location_map = {}\n",
    "        for i, card in enumerate(self.deck):\n",
    "            self.card_location_map[str(card)] = i\n",
    "    \n",
    "    def shuffle(self):\n",
    "        random.shuffle(self.deck)\n",
    "        self.assign_locations()\n",
    "    \n",
    "    def remove(self, card):\n",
    "        card = self.deck.pop(self.card_location_map[str(card)])\n",
    "        self.assign_locations()\n",
    "        return card\n",
    "    \n",
    "    def draw(self):\n",
    "        card = self.deck.pop(0)\n",
    "        self.assign_locations()\n",
    "        return card\n",
    "    \n",
    "    def __str__(self):\n",
    "        return ''.join(['{} \\n'.format(card) for card in self.deck])"
   ]
  },
  {
   "cell_type": "code",
   "execution_count": 21,
   "id": "b329b9a9",
   "metadata": {},
   "outputs": [],
   "source": [
    "d = Deck()\n",
    "columns = [[]] * 7\n",
    "lengths = [1,2,3,4,5,6,7]"
   ]
  },
  {
   "cell_type": "code",
   "execution_count": 39,
   "id": "7110f234",
   "metadata": {},
   "outputs": [],
   "source": [
    "d = Deck()\n",
    "columns = [[d.draw() for i in range(l)] for l in range(1, 8)]\n",
    "visible = [str(col[-1]) for col in columns]"
   ]
  },
  {
   "cell_type": "code",
   "execution_count": 40,
   "id": "e03cf41d",
   "metadata": {},
   "outputs": [
    {
     "data": {
      "text/plain": [
       "['Seven of Hearts',\n",
       " 'Four of Hearts',\n",
       " 'Three of Spades',\n",
       " 'Ace of Spades',\n",
       " 'Jack of Clubs',\n",
       " 'Three of Clubs',\n",
       " 'Two of Clubs']"
      ]
     },
     "execution_count": 40,
     "metadata": {},
     "output_type": "execute_result"
    }
   ],
   "source": [
    "visible"
   ]
  },
  {
   "cell_type": "code",
   "execution_count": 16,
   "id": "e27dd21c",
   "metadata": {},
   "outputs": [],
   "source": [
    "clubs = []\n",
    "diamonds = []\n",
    "hearts = []\n",
    "spades = []"
   ]
  },
  {
   "cell_type": "code",
   "execution_count": null,
   "id": "be013351",
   "metadata": {},
   "outputs": [],
   "source": []
  },
  {
   "cell_type": "code",
   "execution_count": null,
   "id": "09b10241",
   "metadata": {},
   "outputs": [],
   "source": []
  }
 ],
 "metadata": {
  "kernelspec": {
   "display_name": "Python 3 (ipykernel)",
   "language": "python",
   "name": "python3"
  },
  "language_info": {
   "codemirror_mode": {
    "name": "ipython",
    "version": 3
   },
   "file_extension": ".py",
   "mimetype": "text/x-python",
   "name": "python",
   "nbconvert_exporter": "python",
   "pygments_lexer": "ipython3",
   "version": "3.8.3"
  }
 },
 "nbformat": 4,
 "nbformat_minor": 5
}
