{
 "cells": [
  {
   "cell_type": "code",
   "execution_count": 1,
   "metadata": {},
   "outputs": [],
   "source": [
    "import numpy as np\n",
    "import random\n",
    "import itertools\n",
    "from operator import attrgetter\n",
    "from collections import defaultdict\n",
    "from collections import deque\n",
    "import matplotlib.pyplot as plt\n",
    "from collections import defaultdict\n",
    "import pandas as pd\n",
    "\n",
    "import PIL\n",
    "from jinja2 import Environment\n",
    "from IPython.display import HTML, display, Math\n",
    "import os"
   ]
  },
  {
   "cell_type": "code",
   "execution_count": 2,
   "metadata": {},
   "outputs": [],
   "source": [
    "df = pd.read_csv('pre_flop_rank.csv')"
   ]
  },
  {
   "cell_type": "code",
   "execution_count": 3,
   "metadata": {},
   "outputs": [
    {
     "ename": "NameError",
     "evalue": "name 'Game' is not defined",
     "output_type": "error",
     "traceback": [
      "\u001b[0;31m---------------------------------------------------------------------------\u001b[0m",
      "\u001b[0;31mNameError\u001b[0m                                 Traceback (most recent call last)",
      "Cell \u001b[0;32mIn[3], line 4\u001b[0m\n\u001b[1;32m      1\u001b[0m winning_pre_flop_hand_count \u001b[38;5;241m=\u001b[39m {\u001b[38;5;124m'\u001b[39m\u001b[38;5;132;01m{}\u001b[39;00m\u001b[38;5;132;01m{}\u001b[39;00m\u001b[38;5;124m'\u001b[39m\u001b[38;5;241m.\u001b[39mformat(i[\u001b[38;5;241m0\u001b[39m], i[\u001b[38;5;241m1\u001b[39m]): \u001b[38;5;241m0\u001b[39m \u001b[38;5;28;01mfor\u001b[39;00m i \u001b[38;5;129;01min\u001b[39;00m \u001b[38;5;28mzip\u001b[39m(\u001b[38;5;28mlist\u001b[39m(df[\u001b[38;5;124m'\u001b[39m\u001b[38;5;124mCards\u001b[39m\u001b[38;5;124m'\u001b[39m]), \u001b[38;5;28mlist\u001b[39m(df[\u001b[38;5;124m'\u001b[39m\u001b[38;5;124mType\u001b[39m\u001b[38;5;124m'\u001b[39m]))}\n\u001b[1;32m      3\u001b[0m \u001b[38;5;28;01mfor\u001b[39;00m i \u001b[38;5;129;01min\u001b[39;00m \u001b[38;5;28mrange\u001b[39m(\u001b[38;5;241m1000\u001b[39m):\n\u001b[0;32m----> 4\u001b[0m     g \u001b[38;5;241m=\u001b[39m \u001b[43mGame\u001b[49m(\u001b[38;5;241m9\u001b[39m)\n\u001b[1;32m      5\u001b[0m     g\u001b[38;5;241m.\u001b[39mdeal()\n\u001b[1;32m      6\u001b[0m     g\u001b[38;5;241m.\u001b[39mflop()\n",
      "\u001b[0;31mNameError\u001b[0m: name 'Game' is not defined"
     ]
    }
   ],
   "source": [
    "winning_pre_flop_hand_count = {'{}{}'.format(i[0], i[1]): 0 for i in zip(list(df['Cards']), list(df['Type']))}\n",
    "\n",
    "for i in range(1000):\n",
    "    g = Game(9)\n",
    "    g.deal()\n",
    "    g.flop()\n",
    "    g.turn()\n",
    "    g.river()\n",
    "    winning_pre_flop_hand_count[g.get_winner().pre_flop_hand.abbreviation] += 1\n",
    "    \n",
    "winning_pre_flop_hand_count\n",
    "\n",
    "plt.bar(*zip(*winning_pre_flop_hand_count.items()))\n",
    "plt.show()"
   ]
  },
  {
   "cell_type": "code",
   "execution_count": null,
   "metadata": {},
   "outputs": [],
   "source": []
  }
 ],
 "metadata": {
  "kernelspec": {
   "display_name": "Python 3 (ipykernel)",
   "language": "python",
   "name": "python3"
  },
  "language_info": {
   "codemirror_mode": {
    "name": "ipython",
    "version": 3
   },
   "file_extension": ".py",
   "mimetype": "text/x-python",
   "name": "python",
   "nbconvert_exporter": "python",
   "pygments_lexer": "ipython3",
   "version": "3.8.3"
  }
 },
 "nbformat": 4,
 "nbformat_minor": 4
}
